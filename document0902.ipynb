{
 "cells": [
  {
   "cell_type": "code",
   "execution_count": 4,
   "id": "825d72dc",
   "metadata": {},
   "outputs": [
    {
     "name": "stdout",
     "output_type": "stream",
     "text": [
      "21\n"
     ]
    }
   ],
   "source": [
    "myNumber = 20\n",
    "print(myNumber+1)"
   ]
  },
  {
   "cell_type": "code",
   "execution_count": 12,
   "id": "b41e8171",
   "metadata": {},
   "outputs": [
    {
     "name": "stdout",
     "output_type": "stream",
     "text": [
      "5050\n"
     ]
    }
   ],
   "source": [
    "#从1加到100\n",
    "\n",
    "#循环：for/while\n",
    "\n",
    "sum = 0 \n",
    "for index in range(1,101):\n",
    "    sum = sum + index #sum += index\n",
    "print(sum)\n",
    "\n",
    "第一遍:index=1,sum=0 循环结束：sum=sum+index=1\n",
    "第二遍：index=2,sum=1 循环结束：sum=sum+index=3\n",
    "第三遍：index=3,sum=3 循环结束：sum=6\n"
   ]
  },
  {
   "cell_type": "code",
   "execution_count": 16,
   "id": "a2903c2e",
   "metadata": {},
   "outputs": [
    {
     "name": "stdout",
     "output_type": "stream",
     "text": [
      "5050\n"
     ]
    }
   ],
   "source": [
    "#while\n",
    "\n",
    "index=1\n",
    "sum=0\n",
    "\n",
    "while index<101:\n",
    "    sum=sum+index\n",
    "    index=index+1\n",
    "print(sum)\n",
    "\n",
    "#循环\n",
    "\n"
   ]
  },
  {
   "cell_type": "code",
   "execution_count": 19,
   "id": "cfb8b5d1",
   "metadata": {},
   "outputs": [
    {
     "name": "stdout",
     "output_type": "stream",
     "text": [
      "no\n"
     ]
    }
   ],
   "source": [
    "#假设\n",
    "\n",
    "fruits=[\"apple\", \"banana\", \"orange\"]\n",
    "myfruit =\"ahsdjahkjs\"\n",
    "if myfruit in fruits:\n",
    "    print(\"yes\")\n",
    "else:\n",
    "    print(\"no\")"
   ]
  },
  {
   "cell_type": "code",
   "execution_count": null,
   "id": "6bb0fbfb",
   "metadata": {},
   "outputs": [],
   "source": [
    "sum=0\n",
    "index=1\n",
    "while index<=100:\n",
    "    if index%2 == 1:\n",
    "        sum=sum+index\n",
    "    else:\n",
    "    index = index + 1\n",
    "print(sum)"
   ]
  },
  {
   "cell_type": "code",
   "execution_count": null,
   "id": "87ab5bb3",
   "metadata": {},
   "outputs": [],
   "source": []
  }
 ],
 "metadata": {
  "kernelspec": {
   "display_name": "Python 3 (ipykernel)",
   "language": "python",
   "name": "python3"
  },
  "language_info": {
   "codemirror_mode": {
    "name": "ipython",
    "version": 3
   },
   "file_extension": ".py",
   "mimetype": "text/x-python",
   "name": "python",
   "nbconvert_exporter": "python",
   "pygments_lexer": "ipython3",
   "version": "3.7.9"
  }
 },
 "nbformat": 4,
 "nbformat_minor": 5
}
